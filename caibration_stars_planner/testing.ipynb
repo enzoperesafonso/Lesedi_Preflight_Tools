{
 "cells": [
  {
   "cell_type": "code",
   "execution_count": 1,
   "metadata": {},
   "outputs": [],
   "source": [
    "from astropy import units as u\n",
    "from astropy.coordinates import SkyCoord\n",
    "from astroplan import Observer, FixedTarget\n",
    "from astropy.time import Time\n",
    "from astropy.table import Table"
   ]
  },
  {
   "cell_type": "code",
   "execution_count": 3,
   "metadata": {},
   "outputs": [],
   "source": [
    "SUTHERLAND_OBSERVATORY = Observer.at_site('salt')\n",
    "time_range = Time([\"2015-08-01 06:00\", \"2015-08-02 12:00\"])"
   ]
  },
  {
   "cell_type": "code",
   "execution_count": 4,
   "metadata": {},
   "outputs": [],
   "source": [
    "eso_spectroscopic_standards = Table.read('eso_ra_ordered_spectrosopic_standards.txt', format='csv')\n",
    "spectral_standards_targets = [FixedTarget(coord=SkyCoord(ra_dec, unit=(u.hourangle, u.deg)), name=name, visual_mag = visual_mag, spec_type = spec_type )\n",
    "           for name, ra_dec, visual_mag,spec_type, note in eso_spectroscopic_standards]\n"
   ]
  },
  {
   "cell_type": "code",
   "execution_count": 5,
   "metadata": {},
   "outputs": [],
   "source": [
    "from astroplan import (AltitudeConstraint, AirmassConstraint,AtNightConstraint)\n",
    "\n",
    "constraints = [AltitudeConstraint(10*u.deg, 80*u.deg),\n",
    "               AirmassConstraint(5), AtNightConstraint.twilight_astronomical()]"
   ]
  },
  {
   "cell_type": "code",
   "execution_count": 6,
   "metadata": {},
   "outputs": [],
   "source": [
    "from astroplan import is_observable, is_always_observable, months_observable\n",
    "# Are targets *ever* observable in the time range?\n",
    "ever_observable = is_observable(constraints, SUTHERLAND_OBSERVATORY, spectral_standards_targets, time_range=time_range)\n",
    "\n",
    "# Are targets *always* observable in the time range?\n",
    "always_observable = is_always_observable(constraints, SUTHERLAND_OBSERVATORY, spectral_standards_targets, time_range=time_range)\n",
    "\n",
    "# During what months are the targets ever observable?\n",
    "best_months = months_observable(constraints, SUTHERLAND_OBSERVATORY, spectral_standards_targets, time_range)\n"
   ]
  },
  {
   "cell_type": "code",
   "execution_count": 7,
   "metadata": {},
   "outputs": [
    {
     "name": "stdout",
     "output_type": "stream",
     "text": [
      "  targets   ever_observable always_observable\n",
      "----------- --------------- -----------------\n",
      "     HR9087            True             False\n",
      "   G158-100            True             False\n",
      "      HR153           False             False\n",
      "  CD-34d241            True             False\n",
      "   BPM16274            True             False\n",
      "    LTT1020            True             False\n",
      "      HR718            True             False\n",
      "       EG21            True             False\n",
      "    LTT1788            True             False\n",
      "       GD50            True             False\n",
      "        ...             ...               ...\n",
      "GRW+70d5824           False             False\n",
      "     HR5191           False             False\n",
      " CD-32d9927            True             False\n",
      "     HR5501            True             False\n",
      "    LTT6248            True             False\n",
      " BD+33d2642            True             False\n",
      "      EG274            True             False\n",
      "    G138-31            True             False\n",
      "    LTT7379            True             False\n",
      "     HR7001            True             False\n",
      "     HR7596            True             False\n",
      "Length = 55 rows\n"
     ]
    }
   ],
   "source": [
    "observability_table = Table()\n",
    "observability_table['targets'] = [target.name for target in spectral_standards_targets]\n",
    "observability_table['ever_observable'] = ever_observable\n",
    "observability_table['always_observable'] = always_observable\n",
    "print(observability_table)"
   ]
  },
  {
   "cell_type": "code",
   "execution_count": 8,
   "metadata": {},
   "outputs": [
    {
     "name": "stdout",
     "output_type": "stream",
     "text": [
      "target name ever observable always observable fraction of time observable\n",
      "----------- --------------- ----------------- ---------------------------\n",
      "     HR9087            True             False                        0.25\n",
      "   G158-100            True             False                        0.25\n",
      "      HR153           False             False                         0.0\n",
      "  CD-34d241            True             False         0.21666666666666667\n",
      "   BPM16274            True             False                         0.3\n",
      "    LTT1020            True             False         0.18333333333333332\n",
      "      HR718            True             False                        0.15\n",
      "       EG21            True             False          0.3333333333333333\n",
      "    LTT1788            True             False         0.18333333333333332\n",
      "       GD50            True             False         0.11666666666666667\n",
      "        ...             ...               ...                         ...\n",
      "GRW+70d5824           False             False                         0.0\n",
      "     HR5191           False             False                         0.0\n",
      " CD-32d9927            True             False         0.18333333333333332\n",
      "     HR5501            True             False                        0.15\n",
      "    LTT6248            True             False         0.18333333333333332\n",
      " BD+33d2642            True             False         0.11666666666666667\n",
      "      EG274            True             False         0.23333333333333334\n",
      "    G138-31            True             False                         0.2\n",
      "    LTT7379            True             False                        0.35\n",
      "     HR7001            True             False                        0.15\n",
      "     HR7596            True             False         0.31666666666666665\n",
      "Length = 55 rows\n"
     ]
    }
   ],
   "source": [
    "from astroplan import observability_table\n",
    "table = observability_table(constraints, SUTHERLAND_OBSERVATORY, spectral_standards_targets, time_range=time_range)\n",
    "print(table)"
   ]
  },
  {
   "cell_type": "code",
   "execution_count": 2,
   "metadata": {},
   "outputs": [
    {
     "data": {
      "text/plain": [
       "\" from astroplan.plots import plot_sky\\nfrom astroplan import Observer, FixedTarget\\n\\nimport matplotlib.pyplot as plt\\nfrom matplotlib import cm\\nfrom astropy.time import Time\\nfrom astropy.coordinates import SkyCoord\\nimport astropy.units as u\\n\\n\\n\\n# Get grid of times within the time_range limits\\nfrom astroplan import time_grid_from_range\\ntime_grid = time_grid_from_range(time_range)\\n\\nplt.figure(figsize=(6,6))\\ncmap = cm.Set1             # Cycle through this colormap\\n\\nfor i, target in enumerate(spectral_standards_targets):\\n    ax = plot_sky(target, SUTHERLAND_OBSERVATORY, time_grid,\\n                  style_kwargs=dict(color=cmap(float(i)/len(spectral_standards_targets)),\\n                                    label=target.name))\\n\\n    legend = ax.legend(loc='lower center')\\n    legend.get_frame().set_facecolor('w')\\n    \\n    \\nplt.show() \""
      ]
     },
     "execution_count": 2,
     "metadata": {},
     "output_type": "execute_result"
    }
   ],
   "source": [
    "\"\"\" from astroplan.plots import plot_sky\n",
    "from astroplan import Observer, FixedTarget\n",
    "\n",
    "import matplotlib.pyplot as plt\n",
    "from matplotlib import cm\n",
    "from astropy.time import Time\n",
    "from astropy.coordinates import SkyCoord\n",
    "import astropy.units as u\n",
    "\n",
    "\n",
    "\n",
    "# Get grid of times within the time_range limits\n",
    "from astroplan import time_grid_from_range\n",
    "time_grid = time_grid_from_range(time_range)\n",
    "\n",
    "plt.figure(figsize=(6,6))\n",
    "cmap = cm.Set1             # Cycle through this colormap\n",
    "\n",
    "for i, target in enumerate(spectral_standards_targets):\n",
    "    ax = plot_sky(target, SUTHERLAND_OBSERVATORY, time_grid,\n",
    "                  style_kwargs=dict(color=cmap(float(i)/len(spectral_standards_targets)),\n",
    "                                    label=target.name))\n",
    "\n",
    "    legend = ax.legend(loc='lower center')\n",
    "    legend.get_frame().set_facecolor('w')\n",
    "    \n",
    "    \n",
    "plt.show() \"\"\""
   ]
  }
 ],
 "metadata": {
  "kernelspec": {
   "display_name": "lesedi_preflight",
   "language": "python",
   "name": "python3"
  },
  "language_info": {
   "codemirror_mode": {
    "name": "ipython",
    "version": 3
   },
   "file_extension": ".py",
   "mimetype": "text/x-python",
   "name": "python",
   "nbconvert_exporter": "python",
   "pygments_lexer": "ipython3",
   "version": "3.11.8"
  }
 },
 "nbformat": 4,
 "nbformat_minor": 2
}

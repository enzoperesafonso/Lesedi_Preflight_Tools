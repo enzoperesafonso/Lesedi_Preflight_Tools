{
 "cells": [
  {
   "cell_type": "code",
   "execution_count": 7,
   "metadata": {},
   "outputs": [],
   "source": [
    "from astropy import units as u\n",
    "from astropy.coordinates import SkyCoord\n",
    "from astroplan import Observer, FixedTarget\n",
    "from astropy.time import Time\n",
    "from astropy.table import Table"
   ]
  },
  {
   "cell_type": "code",
   "execution_count": 13,
   "metadata": {},
   "outputs": [],
   "source": [
    "SUTHERLAND_OBSERVATORY = Observer.at_site('salt')\n",
    "time_range = Time([\"2015-08-01 06:00\", \"2015-08-01 12:00\"])"
   ]
  },
  {
   "cell_type": "code",
   "execution_count": 28,
   "metadata": {},
   "outputs": [
    {
     "name": "stdout",
     "output_type": "stream",
     "text": [
      "[<FixedTarget \"HR9087\" at SkyCoord (ICRS): (ra, dec) in deg (0.45591667, -3.0275)>, <FixedTarget \"G158-100\" at SkyCoord (ICRS): (ra, dec) in deg (8.47633333, -12.13252778)>, <FixedTarget \"HR153\" at SkyCoord (ICRS): (ra, dec) in deg (9.24291667, 53.89691667)>, <FixedTarget \"CD-34d241\" at SkyCoord (ICRS): (ra, dec) in deg (10.4455, -33.65236111)>, <FixedTarget \"BPM16274\" at SkyCoord (ICRS): (ra, dec) in deg (12.51325, -52.13816667)>, <FixedTarget \"LTT1020\" at SkyCoord (ICRS): (ra, dec) in deg (28.707, -27.47491667)>, <FixedTarget \"HR718\" at SkyCoord (ICRS): (ra, dec) in deg (37.03975, 8.46005556)>, <FixedTarget \"EG21\" at SkyCoord (ICRS): (ra, dec) in deg (47.62908333, -68.60061111)>, <FixedTarget \"LTT1788\" at SkyCoord (ICRS): (ra, dec) in deg (57.092375, -39.14266667)>, <FixedTarget \"GD50\" at SkyCoord (ICRS): (ra, dec) in deg (57.20858333, -0.97511111)>, <FixedTarget \"SA95-42\" at SkyCoord (ICRS): (ra, dec) in deg (58.43195833, -0.07583333)>, <FixedTarget \"HZ4\" at SkyCoord (ICRS): (ra, dec) in deg (58.84041667, 9.78852778)>, <FixedTarget \"LB227\" at SkyCoord (ICRS): (ra, dec) in deg (62.36983333, 17.13177778)>, <FixedTarget \"HZ2\" at SkyCoord (ICRS): (ra, dec) in deg (63.18129167, 11.864)>, <FixedTarget \"HR1544\" at SkyCoord (ICRS): (ra, dec) in deg (72.652875, 8.90019444)>, <FixedTarget \"GD71\" at SkyCoord (ICRS): (ra, dec) in deg (88.114625, 15.88794444)>, <FixedTarget \"G191-B2B\" at SkyCoord (ICRS): (ra, dec) in deg (76.37758333, 52.83166667)>, <FixedTarget \"HR1996\" at SkyCoord (ICRS): (ra, dec) in deg (86.49966667, -32.3065)>, <FixedTarget \"LTT2415\" at SkyCoord (ICRS): (ra, dec) in deg (89.10125, -27.858)>, <FixedTarget \"HILT600\" at SkyCoord (ICRS): (ra, dec) in deg (101.30554167, 2.13725)>, <FixedTarget \"HD49798\" at SkyCoord (ICRS): (ra, dec) in deg (102.01933333, -44.31647222)>, <FixedTarget \"HD60753\" at SkyCoord (ICRS): (ra, dec) in deg (113.36358333, -50.58436111)>, <FixedTarget \"G193-74\" at SkyCoord (ICRS): (ra, dec) in deg (118.36416667, 52.49325)>, <FixedTarget \"BD+75d325\" at SkyCoord (ICRS): (ra, dec) in deg (122.70545833, 74.96597222)>, <FixedTarget \"LTT3218\" at SkyCoord (ICRS): (ra, dec) in deg (130.384875, -32.94247222)>, <FixedTarget \"HR3454\" at SkyCoord (ICRS): (ra, dec) in deg (130.80608333, 3.39863889)>, <FixedTarget \"AGK+81d266\" at SkyCoord (ICRS): (ra, dec) in deg (140.32941667, 81.72461111)>, <FixedTarget \"GD108\" at SkyCoord (ICRS): (ra, dec) in deg (150.19720833, -7.55866667)>, <FixedTarget \"LTT3864\" at SkyCoord (ICRS): (ra, dec) in deg (158.05791667, -35.62844444)>, <FixedTarget \"Feige34\" at SkyCoord (ICRS): (ra, dec) in deg (159.90295833, 43.10280556)>, <FixedTarget \"HD93521\" at SkyCoord (ICRS): (ra, dec) in deg (162.09795833, 37.57022222)>, <FixedTarget \"HR4468\" at SkyCoord (ICRS): (ra, dec) in deg (174.17045833, -9.80227778)>, <FixedTarget \"LTT4364\" at SkyCoord (ICRS): (ra, dec) in deg (176.42883333, -64.84152778)>, <FixedTarget \"HR4554\" at SkyCoord (ICRS): (ra, dec) in deg (178.457625, 53.69475)>, <FixedTarget \"Feige56\" at SkyCoord (ICRS): (ra, dec) in deg (181.696875, 11.67019444)>, <FixedTarget \"HZ21\" at SkyCoord (ICRS): (ra, dec) in deg (183.48508333, 32.94188889)>, <FixedTarget \"Feige66\" at SkyCoord (ICRS): (ra, dec) in deg (189.348125, 25.06675)>, <FixedTarget \"LTT4816\" at SkyCoord (ICRS): (ra, dec) in deg (189.71225, -49.79966667)>, <FixedTarget \"Feige67\" at SkyCoord (ICRS): (ra, dec) in deg (190.46595833, 17.52236111)>, <FixedTarget \"GD153\" at SkyCoord (ICRS): (ra, dec) in deg (194.259875, 22.03222222)>, <FixedTarget \"G60-54\" at SkyCoord (ICRS): (ra, dec) in deg (195.03970833, 3.48213889)>, <FixedTarget \"HR4963\" at SkyCoord (ICRS): (ra, dec) in deg (197.48733333, -5.53902778)>, <FixedTarget \"HZ43\" at SkyCoord (ICRS): (ra, dec) in deg (199.091625, 29.09916667)>, <FixedTarget \"HZ44\" at SkyCoord (ICRS): (ra, dec) in deg (200.897375, 36.13333333)>, <FixedTarget \"GRW+70d5824\" at SkyCoord (ICRS): (ra, dec) in deg (204.71570833, 70.28569444)>, <FixedTarget \"HR5191\" at SkyCoord (ICRS): (ra, dec) in deg (206.88516667, 49.31333333)>, <FixedTarget \"CD-32d9927\" at SkyCoord (ICRS): (ra, dec) in deg (212.94320833, -33.05397222)>, <FixedTarget \"HR5501\" at SkyCoord (ICRS): (ra, dec) in deg (221.37604167, 0.71741667)>, <FixedTarget \"LTT6248\" at SkyCoord (ICRS): (ra, dec) in deg (234.75008333, -28.59252778)>, <FixedTarget \"BD+33d2642\" at SkyCoord (ICRS): (ra, dec) in deg (237.99941667, 32.94855556)>, <FixedTarget \"EG274\" at SkyCoord (ICRS): (ra, dec) in deg (245.890625, -39.22986111)>, <FixedTarget \"G138-31\" at SkyCoord (ICRS): (ra, dec) in deg (246.97329167, 9.20680556)>, <FixedTarget \"LTT7379\" at SkyCoord (ICRS): (ra, dec) in deg (279.10954167, -44.30916667)>, <FixedTarget \"HR7001\" at SkyCoord (ICRS): (ra, dec) in deg (279.23470833, 38.78363889)>, <FixedTarget \"HR7596\" at SkyCoord (ICRS): (ra, dec) in deg (298.68666667, 0.27333333)>]\n"
     ]
    }
   ],
   "source": [
    "target_table = Table.read('eso_ra_ordered_spectrosopic_standards.txt', format='csv')\n",
    "targets = [FixedTarget(coord=SkyCoord(ra_dec, unit=(u.hourangle, u.deg)), name=name, vmag = vmag, spec_type = spec_type )\n",
    "           for name, ra_dec, vmag,spec_type, note in target_table]"
   ]
  },
  {
   "cell_type": "code",
   "execution_count": 12,
   "metadata": {},
   "outputs": [],
   "source": [
    "from astroplan import (AltitudeConstraint, AirmassConstraint,\n",
    "                       AtNightConstraint)\n",
    "\n",
    "constraints = [AltitudeConstraint(10*u.deg, 80*u.deg),\n",
    "               AirmassConstraint(5), AtNightConstraint.twilight_civil()]"
   ]
  },
  {
   "cell_type": "code",
   "execution_count": 14,
   "metadata": {},
   "outputs": [],
   "source": [
    "from astroplan import is_observable, is_always_observable, months_observable\n",
    "# Are targets *ever* observable in the time range?\n",
    "ever_observable = is_observable(constraints, SUTHERLAND_OBSERVATORY, targets, time_range=time_range)\n",
    "\n",
    "# Are targets *always* observable in the time range?\n",
    "always_observable = is_always_observable(constraints, SUTHERLAND_OBSERVATORY, targets, time_range=time_range)\n",
    "\n",
    "# During what months are the targets ever observable?\n",
    "best_months = months_observable(constraints, SUTHERLAND_OBSERVATORY, targets, time_range)"
   ]
  },
  {
   "cell_type": "code",
   "execution_count": 15,
   "metadata": {},
   "outputs": [
    {
     "name": "stdout",
     "output_type": "stream",
     "text": [
      "targets ever_observable always_observable\n",
      "------- --------------- -----------------\n",
      "Polaris           False             False\n",
      "   Vega           False             False\n",
      "Albireo           False             False\n",
      "  Algol           False             False\n",
      "  Rigel           False             False\n",
      "Regulus           False             False\n"
     ]
    }
   ],
   "source": [
    "\n",
    "observability_table = Table()\n",
    "observability_table['targets'] = [target.name for target in targets]\n",
    "observability_table['ever_observable'] = ever_observable\n",
    "observability_table['always_observable'] = always_observable\n",
    "print(observability_table)"
   ]
  },
  {
   "cell_type": "code",
   "execution_count": 17,
   "metadata": {},
   "outputs": [
    {
     "name": "stdout",
     "output_type": "stream",
     "text": [
      "target name ever observable always observable fraction of time observable\n",
      "----------- --------------- ----------------- ---------------------------\n",
      "    Polaris           False             False                         0.0\n",
      "       Vega           False             False                         0.0\n",
      "    Albireo           False             False                         0.0\n",
      "      Algol           False             False                         0.0\n",
      "      Rigel           False             False                         0.0\n",
      "    Regulus           False             False                         0.0\n"
     ]
    }
   ],
   "source": [
    "from astroplan import observability_table\n",
    "table = observability_table(constraints, SUTHERLAND_OBSERVATORY, targets, time_range=time_range)\n",
    "print(table)"
   ]
  }
 ],
 "metadata": {
  "kernelspec": {
   "display_name": "lesedi_preflight",
   "language": "python",
   "name": "python3"
  },
  "language_info": {
   "codemirror_mode": {
    "name": "ipython",
    "version": 3
   },
   "file_extension": ".py",
   "mimetype": "text/x-python",
   "name": "python",
   "nbconvert_exporter": "python",
   "pygments_lexer": "ipython3",
   "version": "3.11.8"
  }
 },
 "nbformat": 4,
 "nbformat_minor": 2
}
